{
 "cells": [
  {
   "cell_type": "markdown",
   "metadata": {},
   "source": [
    "<style  type=\"text/css\"> \n",
    "cool {\n",
    "  width: 100px;\n",
    "  height: 100px;\n",
    "  background-color: red;\n",
    "  position: relative;\n",
    "  -webkit-animation-name: example; /* Safari 4.0 - 8.0 */\n",
    "  -webkit-animation-duration: 4s; /* Safari 4.0 - 8.0 */\n",
    "  -webkit-animation-iteration-count: infinite; /* Safari 4.0 - 8.0 */\n",
    "  animation-name: example;\n",
    "  animation-duration: 4s;\n",
    "  animation-iteration-count: infinite;\n",
    "}\n",
    "\n",
    "/* Safari 4.0 - 8.0 */\n",
    "@-webkit-keyframes example {\n",
    "  0%   {background-color:red; left:0px; top:0px;}\n",
    "  25%  {background-color:yellow; left:200px; top:0px;}\n",
    "  50%  {background-color:blue; left:200px; top:200px;}\n",
    "  75%  {background-color:green; left:0px; top:200px;}\n",
    "  100% {background-color:red; left:0px; top:0px;}\n",
    "}\n",
    "\n",
    "/* Standard syntax */\n",
    "@keyframes example {\n",
    "  0%   {background-color:red; left:0px; top:0px;}\n",
    "  25%  {background-color:yellow; left:200px; top:0px;}\n",
    "  50%  {background-color:blue; left:200px; top:200px;}\n",
    "  75%  {background-color:green; left:0px; top:200px;}\n",
    "  100% {background-color:red; left:0px; top:0px;}\n",
    "}\n",
    "</style>\n",
    "\n",
    "<b><center>\n",
    "<span style=\"font-size: 24pt; line-height: 1.2\">\n",
    "COMS W4111-002/H02/V02 (Spring)<br>Introduction to Databases\n",
    "</span>\n",
    "</center></b>\n",
    "</span><br>\n",
    "<p>\n",
    "<i><center>\n",
    "<span style=\"font-size: 20pt; line-height: 1.2\">\n",
    "Homework 1: SQL Queries\n",
    "</span>\n",
    "</center></i>"
   ]
  },
  {
   "cell_type": "markdown",
   "metadata": {},
   "source": [
    "# Introduction\n",
    "\n",
    "## Objectives\n",
    "\n",
    "This section of homework 1 has you practice and build skill with:\n",
    "- Importing data into a relational database.\n",
    "- Performing simple SQL queries to analyze the data.\n"
   ]
  },
  {
   "cell_type": "markdown",
   "metadata": {},
   "source": [
    "\n",
    "## Setup\n",
    "\n",
    "- This homework involves querying data in an [SQLite](https://www.sqlite.org/index.html) database that you create.\n",
    "\n",
    "\n",
    "- You will load CSV files from the [Lahman Baseball Database](http://www.seanlahman.com/). We provided a zip file. The zip file contains:\n",
    "    - This notebook, which you can use as a template for completing this part of HW 1.\n",
    "    - A directory ```./Data``` that contains the data you will need.\n",
    "\n",
    "\n",
    "- The format of the questions is:\n",
    "    1. A definition of that the query or code snippet should do/produce.\n",
    "    2. A markdown cell where you enter the query. You run the query to produce the result.\n",
    "    \n",
    "    \n",
    "- There is an example.\n",
    "\n",
    "\n",
    "- You use iPython-SQL (```%sql, %%sql```) to execute the queries.\n",
    "\n",
    "\n",
    "- The code cell below initializes the environments, creates a local SQLite database file (if it does not exist) and connects to the file.\n",
    "\n",
    "\n",
    "- You may need to install the python package ```sqlalchemy```. This can be done by opening terminal and typing \"pip install sqlalchemy\" https://pypi.org/project/SQLAlchemy/"
   ]
  },
  {
   "cell_type": "code",
   "execution_count": 1,
   "metadata": {
    "scrolled": true
   },
   "outputs": [
    {
     "data": {
      "text/plain": [
       "'Connected: @Data/hw1sql.db'"
      ]
     },
     "execution_count": 1,
     "metadata": {},
     "output_type": "execute_result"
    }
   ],
   "source": [
    "%load_ext sql\n",
    "%sql sqlite:///Data/hw1sql.db"
   ]
  },
  {
   "cell_type": "code",
   "execution_count": 2,
   "metadata": {},
   "outputs": [
    {
     "name": "stdout",
     "output_type": "stream",
     "text": [
      "Requirement already satisfied: sqlalchemy in /Users/zjh/opt/anaconda3/lib/python3.7/site-packages (1.3.9)\n",
      "Note: you may need to restart the kernel to use updated packages.\n"
     ]
    }
   ],
   "source": [
    "pip install sqlalchemy"
   ]
  },
  {
   "cell_type": "markdown",
   "metadata": {},
   "source": [
    "# Questions\n",
    "\n",
    "## Q1\n",
    "\n",
    "- Loading data from files in various formats into Python data structures and databases for processing and analysis is extremely common.\n",
    "\n",
    "\n",
    "- Complete the following code fragment. Only one line of code is required here. This fragment should load data from a CSV file into a [Pandas data frame.](https://pandas.pydata.org/pandas-docs/stable/reference/api/pandas.DataFrame.html)Hint: use the file path \n",
    "\n",
    "- Cells after the code fragment contain tests and sample answers that you should reproduce.\n",
    "\n",
    "<u>Answer</u>"
   ]
  },
  {
   "cell_type": "code",
   "execution_count": 3,
   "metadata": {},
   "outputs": [],
   "source": [
    "import pandas as pd\n",
    "import os\n",
    "\n",
    "def load_csv_to_df(fn):\n",
    "    \n",
    "    with open(fn) as data_file:\n",
    "        print(\"The full file path is: \", os.path.realpath(data_file.name))\n",
    "\n",
    "        ###### Your Code Goes Here #####\n",
    "        df=pd.read_csv(os.path.realpath(data_file.name))\n",
    "    \n",
    "        \n",
    "        \n",
    "        ##### End Code #####\n",
    "        \n",
    "        print(\"Loaded data frame. \")\n",
    "        return df"
   ]
  },
  {
   "cell_type": "markdown",
   "metadata": {},
   "source": [
    "<u>Tests</u>"
   ]
  },
  {
   "cell_type": "code",
   "execution_count": 4,
   "metadata": {},
   "outputs": [
    {
     "name": "stdout",
     "output_type": "stream",
     "text": [
      "The full file path is:  /Users/zjh/Desktop/Columbia/term 2/Intro to database/HW1 PartB/hw1_sql/Data/People.csv\n",
      "Loaded data frame. \n",
      "Loaded file People\n",
      "The full file path is:  /Users/zjh/Desktop/Columbia/term 2/Intro to database/HW1 PartB/hw1_sql/Data/Salaries.csv\n",
      "Loaded data frame. \n",
      "Loaded file Salaries\n",
      "The full file path is:  /Users/zjh/Desktop/Columbia/term 2/Intro to database/HW1 PartB/hw1_sql/Data/CollegePlaying.csv\n",
      "Loaded data frame. \n",
      "Loaded file CollegePlaying\n",
      "The full file path is:  /Users/zjh/Desktop/Columbia/term 2/Intro to database/HW1 PartB/hw1_sql/Data/Schools.csv\n",
      "Loaded data frame. \n",
      "Loaded file Schools\n",
      "The full file path is:  /Users/zjh/Desktop/Columbia/term 2/Intro to database/HW1 PartB/hw1_sql/Data/Batting.csv\n",
      "Loaded data frame. \n",
      "Loaded file Batting\n",
      "The full file path is:  /Users/zjh/Desktop/Columbia/term 2/Intro to database/HW1 PartB/hw1_sql/Data/HallOfFame.csv\n",
      "Loaded data frame. \n",
      "Loaded file HallOfFame\n"
     ]
    }
   ],
   "source": [
    "csv_files = ['People', 'Salaries', 'CollegePlaying', 'Schools', 'Batting', 'HallOfFame']\n",
    "\n",
    "\n",
    "dfs = {}\n",
    "\n",
    "for f in csv_files:\n",
    "    fn = \"./Data/\" + f + \".csv\"\n",
    "    dfs[f] = load_csv_to_df(fn)\n",
    "    print(\"Loaded file \" + f)\n",
    "    "
   ]
  },
  {
   "cell_type": "markdown",
   "metadata": {},
   "source": [
    "- The next cells print the first 5 rows in each dataframe to help you confirm that you loaded the data. Your execution should produce the same answer as the cells below. __Remember,__ your execution will overwrite the ones in this notebook. So, you should make a copy of the correct answers for comparison."
   ]
  },
  {
   "cell_type": "code",
   "execution_count": 5,
   "metadata": {},
   "outputs": [
    {
     "name": "stdout",
     "output_type": "stream",
     "text": [
      "\n",
      "\n",
      "************* Data for dataframe =  People *************\n",
      "\n",
      "    playerID  birthYear  birthMonth  birthDay birthCountry birthState  \\\n",
      "0  aardsda01     1981.0        12.0      27.0          USA         CO   \n",
      "1  aaronha01     1934.0         2.0       5.0          USA         AL   \n",
      "2  aaronto01     1939.0         8.0       5.0          USA         AL   \n",
      "3   aasedo01     1954.0         9.0       8.0          USA         CA   \n",
      "4   abadan01     1972.0         8.0      25.0          USA         FL   \n",
      "\n",
      "    birthCity  deathYear  deathMonth  deathDay  ... nameLast       nameGiven  \\\n",
      "0      Denver        NaN         NaN       NaN  ...  Aardsma     David Allan   \n",
      "1      Mobile        NaN         NaN       NaN  ...    Aaron     Henry Louis   \n",
      "2      Mobile     1984.0         8.0      16.0  ...    Aaron      Tommie Lee   \n",
      "3      Orange        NaN         NaN       NaN  ...     Aase  Donald William   \n",
      "4  Palm Beach        NaN         NaN       NaN  ...     Abad   Fausto Andres   \n",
      "\n",
      "  weight height bats throws       debut   finalGame   retroID    bbrefID  \n",
      "0  215.0   75.0    R      R  2004-04-06  2015-08-23  aardd001  aardsda01  \n",
      "1  180.0   72.0    R      R  1954-04-13  1976-10-03  aaroh101  aaronha01  \n",
      "2  190.0   75.0    R      R  1962-04-10  1971-09-26  aarot101  aaronto01  \n",
      "3  190.0   75.0    R      R  1977-07-26  1990-10-03  aased001   aasedo01  \n",
      "4  184.0   73.0    L      L  2001-09-10  2006-04-13  abada001   abadan01  \n",
      "\n",
      "[5 rows x 24 columns]\n",
      "\n",
      "\n",
      "************* Data for dataframe =  Salaries *************\n",
      "\n",
      "   yearID teamID lgID   playerID  salary\n",
      "0    1985    ATL   NL  barkele01  870000\n",
      "1    1985    ATL   NL  bedrost01  550000\n",
      "2    1985    ATL   NL  benedbr01  545000\n",
      "3    1985    ATL   NL   campri01  633333\n",
      "4    1985    ATL   NL  ceronri01  625000\n",
      "\n",
      "\n",
      "************* Data for dataframe =  CollegePlaying *************\n",
      "\n",
      "    playerID schoolID  yearID\n",
      "0  aardsda01   pennst    2001\n",
      "1  aardsda01     rice    2002\n",
      "2  aardsda01     rice    2003\n",
      "3   abadan01  gamiddl    1992\n",
      "4   abadan01  gamiddl    1993\n",
      "\n",
      "\n",
      "************* Data for dataframe =  Schools *************\n",
      "\n",
      "     schoolID                     name_full         city state country\n",
      "0  abilchrist  Abilene Christian University      Abilene    TX     USA\n",
      "1     adelphi            Adelphi University  Garden City    NY     USA\n",
      "2    adrianmi                Adrian College       Adrian    MI     USA\n",
      "3       akron           University of Akron        Akron    OH     USA\n",
      "4     alabama         University of Alabama   Tuscaloosa    AL     USA\n",
      "\n",
      "\n",
      "************* Data for dataframe =  Batting *************\n",
      "\n",
      "    playerID  yearID  stint teamID lgID   G   AB   R   H  2B  ...   RBI   SB  \\\n",
      "0  abercda01    1871      1    TRO  NaN   1    4   0   0   0  ...   0.0  0.0   \n",
      "1   addybo01    1871      1    RC1  NaN  25  118  30  32   6  ...  13.0  8.0   \n",
      "2  allisar01    1871      1    CL1  NaN  29  137  28  40   4  ...  19.0  3.0   \n",
      "3  allisdo01    1871      1    WS3  NaN  27  133  28  44  10  ...  27.0  1.0   \n",
      "4  ansonca01    1871      1    RC1  NaN  25  120  29  39  11  ...  16.0  6.0   \n",
      "\n",
      "    CS  BB   SO  IBB  HBP  SH  SF  GIDP  \n",
      "0  0.0   0  0.0  NaN  NaN NaN NaN   0.0  \n",
      "1  1.0   4  0.0  NaN  NaN NaN NaN   0.0  \n",
      "2  1.0   2  5.0  NaN  NaN NaN NaN   1.0  \n",
      "3  1.0   0  2.0  NaN  NaN NaN NaN   0.0  \n",
      "4  2.0   2  1.0  NaN  NaN NaN NaN   0.0  \n",
      "\n",
      "[5 rows x 22 columns]\n",
      "\n",
      "\n",
      "************* Data for dataframe =  HallOfFame *************\n",
      "\n",
      "    playerID  yearID votedBy  ballots  needed  votes inducted category  \\\n",
      "0   cobbty01    1936   BBWAA    226.0   170.0  222.0        Y   Player   \n",
      "1   ruthba01    1936   BBWAA    226.0   170.0  215.0        Y   Player   \n",
      "2  wagneho01    1936   BBWAA    226.0   170.0  215.0        Y   Player   \n",
      "3  mathech01    1936   BBWAA    226.0   170.0  205.0        Y   Player   \n",
      "4  johnswa01    1936   BBWAA    226.0   170.0  189.0        Y   Player   \n",
      "\n",
      "  needed_note  \n",
      "0         NaN  \n",
      "1         NaN  \n",
      "2         NaN  \n",
      "3         NaN  \n",
      "4         NaN  \n"
     ]
    }
   ],
   "source": [
    "for k,v in dfs.items():\n",
    "    print (\"\\n\\n************* Data for dataframe = \", k, \"*************\\n\")\n",
    "    print (v.head(5))"
   ]
  },
  {
   "cell_type": "markdown",
   "metadata": {},
   "source": [
    "\n",
    "## Q1 $-$ Loading the Data\n",
    "\n",
    "- There are two parts to this question.\n",
    "\n",
    "__Part 1__\n",
    "\n",
    "- Write a set of SQL statements that drop the tables ```People, Salaries, CollegePlaying, Batting, School, HallOfFame``` from your database file. \n",
    "\n",
    "- Your statements must not produce any errors or warnings.\n",
    "\n",
    "- This step is to make sure there are no prexisting tables with the same names in your sqlite database that could throw an error. \n",
    "\n",
    "<u>Answer:</u>"
   ]
  },
  {
   "cell_type": "code",
   "execution_count": 6,
   "metadata": {},
   "outputs": [
    {
     "name": "stdout",
     "output_type": "stream",
     "text": [
      " * sqlite:///Data/hw1sql.db\n",
      "Done.\n",
      "Done.\n",
      "Done.\n",
      "Done.\n",
      "Done.\n",
      "Done.\n"
     ]
    },
    {
     "data": {
      "text/plain": [
       "[]"
      ]
     },
     "execution_count": 6,
     "metadata": {},
     "output_type": "execute_result"
    }
   ],
   "source": [
    "%%sql\n",
    "DROP TABLE IF EXISTS People;\n",
    "DROP TABLE IF EXISTS Salaries;\n",
    "DROP TABLE IF EXISTS CollegePlaying;\n",
    "DROP TABLE IF EXISTS Batting;\n",
    "DROP TABLE IF EXISTS Schools;\n",
    "DROP TABLE IF EXISTS HallOfFame\n"
   ]
  },
  {
   "cell_type": "markdown",
   "metadata": {},
   "source": [
    "__Part 2__\n",
    "\n",
    "- The following cell is an implementation template for a function that will create a table for a data frame and load the data into the table.\n",
    "\n",
    "<u>Answer</u>"
   ]
  },
  {
   "cell_type": "code",
   "execution_count": 7,
   "metadata": {},
   "outputs": [],
   "source": [
    "def df_to_sql_table(table_name, df, database_connection, index_label):\n",
    "    \"\"\"\n",
    "    \n",
    "    :param table_name: The name of the RDB table to create\n",
    "    :param df: The dataframe holding data to write to the RDB table.\n",
    "    :param database_connection: An open connection to a database to use for writing the data. We create the connection\n",
    "        in the next cell. \n",
    "    :param index_label: Pandas data frames contain indexes. What is the name of the column in the DB table\n",
    "        that we should use to store the index information.\n",
    "    :return: None\n",
    "    \"\"\"\n",
    "    \n",
    "    ##### Your Code Goes Here #####\n",
    "    df.to_sql(name=table_name, con=database_connection,index_label=index_label)\n",
    "\n",
    "    ##### End Your Code #####\n",
    "    \n",
    "    print(\"Created and loaded table = \", table_name)\n",
    "    "
   ]
  },
  {
   "cell_type": "markdown",
   "metadata": {},
   "source": [
    "- You must create a connection.\n"
   ]
  },
  {
   "cell_type": "code",
   "execution_count": 8,
   "metadata": {},
   "outputs": [],
   "source": [
    "# You must create an SQLite connection to the DB you created to\n",
    "# insert the data and create the tables.\n",
    "import sqlite3\n",
    "\n",
    "##### Make the connection by completing the statement.\n",
    "conn = sqlite3.connect('/Users/zjh/Desktop/Columbia/term 2/Intro to database/HW1 PartB/hw1_sql/Data/hw1sql.db')\n"
   ]
  },
  {
   "cell_type": "markdown",
   "metadata": {},
   "source": [
    "<u>Tests</u>"
   ]
  },
  {
   "cell_type": "code",
   "execution_count": 9,
   "metadata": {},
   "outputs": [
    {
     "name": "stdout",
     "output_type": "stream",
     "text": [
      "Created and loaded table =  People\n",
      "Created and loaded table =  Salaries\n",
      "Created and loaded table =  CollegePlaying\n",
      "Created and loaded table =  Schools\n",
      "Created and loaded table =  Batting\n",
      "Created and loaded table =  HallOfFame\n"
     ]
    }
   ],
   "source": [
    "for k,v in dfs.items():\n",
    "    df_to_sql_table(k, v, conn, index_label=\"id\")"
   ]
  },
  {
   "cell_type": "markdown",
   "metadata": {},
   "source": [
    "- The following cells display the first five rows from each table."
   ]
  },
  {
   "cell_type": "code",
   "execution_count": 10,
   "metadata": {},
   "outputs": [
    {
     "name": "stdout",
     "output_type": "stream",
     "text": [
      " * sqlite:///Data/hw1sql.db\n",
      "Done.\n"
     ]
    },
    {
     "data": {
      "text/html": [
       "<table>\n",
       "    <tr>\n",
       "        <th>id</th>\n",
       "        <th>playerID</th>\n",
       "        <th>birthYear</th>\n",
       "        <th>birthMonth</th>\n",
       "        <th>birthDay</th>\n",
       "        <th>birthCountry</th>\n",
       "        <th>birthState</th>\n",
       "        <th>birthCity</th>\n",
       "        <th>deathYear</th>\n",
       "        <th>deathMonth</th>\n",
       "        <th>deathDay</th>\n",
       "        <th>deathCountry</th>\n",
       "        <th>deathState</th>\n",
       "        <th>deathCity</th>\n",
       "        <th>nameFirst</th>\n",
       "        <th>nameLast</th>\n",
       "        <th>nameGiven</th>\n",
       "        <th>weight</th>\n",
       "        <th>height</th>\n",
       "        <th>bats</th>\n",
       "        <th>throws</th>\n",
       "        <th>debut</th>\n",
       "        <th>finalGame</th>\n",
       "        <th>retroID</th>\n",
       "        <th>bbrefID</th>\n",
       "    </tr>\n",
       "    <tr>\n",
       "        <td>0</td>\n",
       "        <td>aardsda01</td>\n",
       "        <td>1981.0</td>\n",
       "        <td>12.0</td>\n",
       "        <td>27.0</td>\n",
       "        <td>USA</td>\n",
       "        <td>CO</td>\n",
       "        <td>Denver</td>\n",
       "        <td>None</td>\n",
       "        <td>None</td>\n",
       "        <td>None</td>\n",
       "        <td>None</td>\n",
       "        <td>None</td>\n",
       "        <td>None</td>\n",
       "        <td>David</td>\n",
       "        <td>Aardsma</td>\n",
       "        <td>David Allan</td>\n",
       "        <td>215.0</td>\n",
       "        <td>75.0</td>\n",
       "        <td>R</td>\n",
       "        <td>R</td>\n",
       "        <td>2004-04-06</td>\n",
       "        <td>2015-08-23</td>\n",
       "        <td>aardd001</td>\n",
       "        <td>aardsda01</td>\n",
       "    </tr>\n",
       "    <tr>\n",
       "        <td>1</td>\n",
       "        <td>aaronha01</td>\n",
       "        <td>1934.0</td>\n",
       "        <td>2.0</td>\n",
       "        <td>5.0</td>\n",
       "        <td>USA</td>\n",
       "        <td>AL</td>\n",
       "        <td>Mobile</td>\n",
       "        <td>None</td>\n",
       "        <td>None</td>\n",
       "        <td>None</td>\n",
       "        <td>None</td>\n",
       "        <td>None</td>\n",
       "        <td>None</td>\n",
       "        <td>Hank</td>\n",
       "        <td>Aaron</td>\n",
       "        <td>Henry Louis</td>\n",
       "        <td>180.0</td>\n",
       "        <td>72.0</td>\n",
       "        <td>R</td>\n",
       "        <td>R</td>\n",
       "        <td>1954-04-13</td>\n",
       "        <td>1976-10-03</td>\n",
       "        <td>aaroh101</td>\n",
       "        <td>aaronha01</td>\n",
       "    </tr>\n",
       "    <tr>\n",
       "        <td>2</td>\n",
       "        <td>aaronto01</td>\n",
       "        <td>1939.0</td>\n",
       "        <td>8.0</td>\n",
       "        <td>5.0</td>\n",
       "        <td>USA</td>\n",
       "        <td>AL</td>\n",
       "        <td>Mobile</td>\n",
       "        <td>1984.0</td>\n",
       "        <td>8.0</td>\n",
       "        <td>16.0</td>\n",
       "        <td>USA</td>\n",
       "        <td>GA</td>\n",
       "        <td>Atlanta</td>\n",
       "        <td>Tommie</td>\n",
       "        <td>Aaron</td>\n",
       "        <td>Tommie Lee</td>\n",
       "        <td>190.0</td>\n",
       "        <td>75.0</td>\n",
       "        <td>R</td>\n",
       "        <td>R</td>\n",
       "        <td>1962-04-10</td>\n",
       "        <td>1971-09-26</td>\n",
       "        <td>aarot101</td>\n",
       "        <td>aaronto01</td>\n",
       "    </tr>\n",
       "    <tr>\n",
       "        <td>3</td>\n",
       "        <td>aasedo01</td>\n",
       "        <td>1954.0</td>\n",
       "        <td>9.0</td>\n",
       "        <td>8.0</td>\n",
       "        <td>USA</td>\n",
       "        <td>CA</td>\n",
       "        <td>Orange</td>\n",
       "        <td>None</td>\n",
       "        <td>None</td>\n",
       "        <td>None</td>\n",
       "        <td>None</td>\n",
       "        <td>None</td>\n",
       "        <td>None</td>\n",
       "        <td>Don</td>\n",
       "        <td>Aase</td>\n",
       "        <td>Donald William</td>\n",
       "        <td>190.0</td>\n",
       "        <td>75.0</td>\n",
       "        <td>R</td>\n",
       "        <td>R</td>\n",
       "        <td>1977-07-26</td>\n",
       "        <td>1990-10-03</td>\n",
       "        <td>aased001</td>\n",
       "        <td>aasedo01</td>\n",
       "    </tr>\n",
       "    <tr>\n",
       "        <td>4</td>\n",
       "        <td>abadan01</td>\n",
       "        <td>1972.0</td>\n",
       "        <td>8.0</td>\n",
       "        <td>25.0</td>\n",
       "        <td>USA</td>\n",
       "        <td>FL</td>\n",
       "        <td>Palm Beach</td>\n",
       "        <td>None</td>\n",
       "        <td>None</td>\n",
       "        <td>None</td>\n",
       "        <td>None</td>\n",
       "        <td>None</td>\n",
       "        <td>None</td>\n",
       "        <td>Andy</td>\n",
       "        <td>Abad</td>\n",
       "        <td>Fausto Andres</td>\n",
       "        <td>184.0</td>\n",
       "        <td>73.0</td>\n",
       "        <td>L</td>\n",
       "        <td>L</td>\n",
       "        <td>2001-09-10</td>\n",
       "        <td>2006-04-13</td>\n",
       "        <td>abada001</td>\n",
       "        <td>abadan01</td>\n",
       "    </tr>\n",
       "</table>"
      ],
      "text/plain": [
       "[(0, 'aardsda01', 1981.0, 12.0, 27.0, 'USA', 'CO', 'Denver', None, None, None, None, None, None, 'David', 'Aardsma', 'David Allan', 215.0, 75.0, 'R', 'R', '2004-04-06', '2015-08-23', 'aardd001', 'aardsda01'),\n",
       " (1, 'aaronha01', 1934.0, 2.0, 5.0, 'USA', 'AL', 'Mobile', None, None, None, None, None, None, 'Hank', 'Aaron', 'Henry Louis', 180.0, 72.0, 'R', 'R', '1954-04-13', '1976-10-03', 'aaroh101', 'aaronha01'),\n",
       " (2, 'aaronto01', 1939.0, 8.0, 5.0, 'USA', 'AL', 'Mobile', 1984.0, 8.0, 16.0, 'USA', 'GA', 'Atlanta', 'Tommie', 'Aaron', 'Tommie Lee', 190.0, 75.0, 'R', 'R', '1962-04-10', '1971-09-26', 'aarot101', 'aaronto01'),\n",
       " (3, 'aasedo01', 1954.0, 9.0, 8.0, 'USA', 'CA', 'Orange', None, None, None, None, None, None, 'Don', 'Aase', 'Donald William', 190.0, 75.0, 'R', 'R', '1977-07-26', '1990-10-03', 'aased001', 'aasedo01'),\n",
       " (4, 'abadan01', 1972.0, 8.0, 25.0, 'USA', 'FL', 'Palm Beach', None, None, None, None, None, None, 'Andy', 'Abad', 'Fausto Andres', 184.0, 73.0, 'L', 'L', '2001-09-10', '2006-04-13', 'abada001', 'abadan01')]"
      ]
     },
     "execution_count": 10,
     "metadata": {},
     "output_type": "execute_result"
    }
   ],
   "source": [
    "%sql select * from People limit 5;"
   ]
  },
  {
   "cell_type": "code",
   "execution_count": 11,
   "metadata": {},
   "outputs": [
    {
     "name": "stdout",
     "output_type": "stream",
     "text": [
      " * sqlite:///Data/hw1sql.db\n",
      "Done.\n"
     ]
    },
    {
     "data": {
      "text/html": [
       "<table>\n",
       "    <tr>\n",
       "        <th>id</th>\n",
       "        <th>yearID</th>\n",
       "        <th>teamID</th>\n",
       "        <th>lgID</th>\n",
       "        <th>playerID</th>\n",
       "        <th>salary</th>\n",
       "    </tr>\n",
       "    <tr>\n",
       "        <td>0</td>\n",
       "        <td>1985</td>\n",
       "        <td>ATL</td>\n",
       "        <td>NL</td>\n",
       "        <td>barkele01</td>\n",
       "        <td>870000</td>\n",
       "    </tr>\n",
       "    <tr>\n",
       "        <td>1</td>\n",
       "        <td>1985</td>\n",
       "        <td>ATL</td>\n",
       "        <td>NL</td>\n",
       "        <td>bedrost01</td>\n",
       "        <td>550000</td>\n",
       "    </tr>\n",
       "    <tr>\n",
       "        <td>2</td>\n",
       "        <td>1985</td>\n",
       "        <td>ATL</td>\n",
       "        <td>NL</td>\n",
       "        <td>benedbr01</td>\n",
       "        <td>545000</td>\n",
       "    </tr>\n",
       "    <tr>\n",
       "        <td>3</td>\n",
       "        <td>1985</td>\n",
       "        <td>ATL</td>\n",
       "        <td>NL</td>\n",
       "        <td>campri01</td>\n",
       "        <td>633333</td>\n",
       "    </tr>\n",
       "    <tr>\n",
       "        <td>4</td>\n",
       "        <td>1985</td>\n",
       "        <td>ATL</td>\n",
       "        <td>NL</td>\n",
       "        <td>ceronri01</td>\n",
       "        <td>625000</td>\n",
       "    </tr>\n",
       "</table>"
      ],
      "text/plain": [
       "[(0, 1985, 'ATL', 'NL', 'barkele01', 870000),\n",
       " (1, 1985, 'ATL', 'NL', 'bedrost01', 550000),\n",
       " (2, 1985, 'ATL', 'NL', 'benedbr01', 545000),\n",
       " (3, 1985, 'ATL', 'NL', 'campri01', 633333),\n",
       " (4, 1985, 'ATL', 'NL', 'ceronri01', 625000)]"
      ]
     },
     "execution_count": 11,
     "metadata": {},
     "output_type": "execute_result"
    }
   ],
   "source": [
    "%sql select * from Salaries limit 5;"
   ]
  },
  {
   "cell_type": "code",
   "execution_count": 12,
   "metadata": {},
   "outputs": [
    {
     "name": "stdout",
     "output_type": "stream",
     "text": [
      " * sqlite:///Data/hw1sql.db\n",
      "Done.\n"
     ]
    },
    {
     "data": {
      "text/html": [
       "<table>\n",
       "    <tr>\n",
       "        <th>id</th>\n",
       "        <th>playerID</th>\n",
       "        <th>schoolID</th>\n",
       "        <th>yearID</th>\n",
       "    </tr>\n",
       "    <tr>\n",
       "        <td>0</td>\n",
       "        <td>aardsda01</td>\n",
       "        <td>pennst</td>\n",
       "        <td>2001</td>\n",
       "    </tr>\n",
       "    <tr>\n",
       "        <td>1</td>\n",
       "        <td>aardsda01</td>\n",
       "        <td>rice</td>\n",
       "        <td>2002</td>\n",
       "    </tr>\n",
       "    <tr>\n",
       "        <td>2</td>\n",
       "        <td>aardsda01</td>\n",
       "        <td>rice</td>\n",
       "        <td>2003</td>\n",
       "    </tr>\n",
       "    <tr>\n",
       "        <td>3</td>\n",
       "        <td>abadan01</td>\n",
       "        <td>gamiddl</td>\n",
       "        <td>1992</td>\n",
       "    </tr>\n",
       "    <tr>\n",
       "        <td>4</td>\n",
       "        <td>abadan01</td>\n",
       "        <td>gamiddl</td>\n",
       "        <td>1993</td>\n",
       "    </tr>\n",
       "</table>"
      ],
      "text/plain": [
       "[(0, 'aardsda01', 'pennst', 2001),\n",
       " (1, 'aardsda01', 'rice', 2002),\n",
       " (2, 'aardsda01', 'rice', 2003),\n",
       " (3, 'abadan01', 'gamiddl', 1992),\n",
       " (4, 'abadan01', 'gamiddl', 1993)]"
      ]
     },
     "execution_count": 12,
     "metadata": {},
     "output_type": "execute_result"
    }
   ],
   "source": [
    "%sql select * from CollegePlaying limit 5;"
   ]
  },
  {
   "cell_type": "code",
   "execution_count": 13,
   "metadata": {},
   "outputs": [
    {
     "name": "stdout",
     "output_type": "stream",
     "text": [
      " * sqlite:///Data/hw1sql.db\n",
      "Done.\n"
     ]
    },
    {
     "data": {
      "text/html": [
       "<table>\n",
       "    <tr>\n",
       "        <th>id</th>\n",
       "        <th>schoolID</th>\n",
       "        <th>name_full</th>\n",
       "        <th>city</th>\n",
       "        <th>state</th>\n",
       "        <th>country</th>\n",
       "    </tr>\n",
       "    <tr>\n",
       "        <td>0</td>\n",
       "        <td>abilchrist</td>\n",
       "        <td>Abilene Christian University</td>\n",
       "        <td>Abilene</td>\n",
       "        <td>TX</td>\n",
       "        <td>USA</td>\n",
       "    </tr>\n",
       "    <tr>\n",
       "        <td>1</td>\n",
       "        <td>adelphi</td>\n",
       "        <td>Adelphi University</td>\n",
       "        <td>Garden City</td>\n",
       "        <td>NY</td>\n",
       "        <td>USA</td>\n",
       "    </tr>\n",
       "    <tr>\n",
       "        <td>2</td>\n",
       "        <td>adrianmi</td>\n",
       "        <td>Adrian College</td>\n",
       "        <td>Adrian</td>\n",
       "        <td>MI</td>\n",
       "        <td>USA</td>\n",
       "    </tr>\n",
       "    <tr>\n",
       "        <td>3</td>\n",
       "        <td>akron</td>\n",
       "        <td>University of Akron</td>\n",
       "        <td>Akron</td>\n",
       "        <td>OH</td>\n",
       "        <td>USA</td>\n",
       "    </tr>\n",
       "    <tr>\n",
       "        <td>4</td>\n",
       "        <td>alabama</td>\n",
       "        <td>University of Alabama</td>\n",
       "        <td>Tuscaloosa</td>\n",
       "        <td>AL</td>\n",
       "        <td>USA</td>\n",
       "    </tr>\n",
       "</table>"
      ],
      "text/plain": [
       "[(0, 'abilchrist', 'Abilene Christian University', 'Abilene', 'TX', 'USA'),\n",
       " (1, 'adelphi', 'Adelphi University', 'Garden City', 'NY', 'USA'),\n",
       " (2, 'adrianmi', 'Adrian College', 'Adrian', 'MI', 'USA'),\n",
       " (3, 'akron', 'University of Akron', 'Akron', 'OH', 'USA'),\n",
       " (4, 'alabama', 'University of Alabama', 'Tuscaloosa', 'AL', 'USA')]"
      ]
     },
     "execution_count": 13,
     "metadata": {},
     "output_type": "execute_result"
    }
   ],
   "source": [
    "%sql select * from Schools limit 5;"
   ]
  },
  {
   "cell_type": "code",
   "execution_count": 14,
   "metadata": {},
   "outputs": [
    {
     "name": "stdout",
     "output_type": "stream",
     "text": [
      " * sqlite:///Data/hw1sql.db\n",
      "Done.\n"
     ]
    },
    {
     "data": {
      "text/html": [
       "<table>\n",
       "    <tr>\n",
       "        <th>id</th>\n",
       "        <th>playerID</th>\n",
       "        <th>yearID</th>\n",
       "        <th>stint</th>\n",
       "        <th>teamID</th>\n",
       "        <th>lgID</th>\n",
       "        <th>G</th>\n",
       "        <th>AB</th>\n",
       "        <th>R</th>\n",
       "        <th>H</th>\n",
       "        <th>2B</th>\n",
       "        <th>3B</th>\n",
       "        <th>HR</th>\n",
       "        <th>RBI</th>\n",
       "        <th>SB</th>\n",
       "        <th>CS</th>\n",
       "        <th>BB</th>\n",
       "        <th>SO</th>\n",
       "        <th>IBB</th>\n",
       "        <th>HBP</th>\n",
       "        <th>SH</th>\n",
       "        <th>SF</th>\n",
       "        <th>GIDP</th>\n",
       "    </tr>\n",
       "    <tr>\n",
       "        <td>0</td>\n",
       "        <td>abercda01</td>\n",
       "        <td>1871</td>\n",
       "        <td>1</td>\n",
       "        <td>TRO</td>\n",
       "        <td>None</td>\n",
       "        <td>1</td>\n",
       "        <td>4</td>\n",
       "        <td>0</td>\n",
       "        <td>0</td>\n",
       "        <td>0</td>\n",
       "        <td>0</td>\n",
       "        <td>0</td>\n",
       "        <td>0.0</td>\n",
       "        <td>0.0</td>\n",
       "        <td>0.0</td>\n",
       "        <td>0</td>\n",
       "        <td>0.0</td>\n",
       "        <td>None</td>\n",
       "        <td>None</td>\n",
       "        <td>None</td>\n",
       "        <td>None</td>\n",
       "        <td>0.0</td>\n",
       "    </tr>\n",
       "    <tr>\n",
       "        <td>1</td>\n",
       "        <td>addybo01</td>\n",
       "        <td>1871</td>\n",
       "        <td>1</td>\n",
       "        <td>RC1</td>\n",
       "        <td>None</td>\n",
       "        <td>25</td>\n",
       "        <td>118</td>\n",
       "        <td>30</td>\n",
       "        <td>32</td>\n",
       "        <td>6</td>\n",
       "        <td>0</td>\n",
       "        <td>0</td>\n",
       "        <td>13.0</td>\n",
       "        <td>8.0</td>\n",
       "        <td>1.0</td>\n",
       "        <td>4</td>\n",
       "        <td>0.0</td>\n",
       "        <td>None</td>\n",
       "        <td>None</td>\n",
       "        <td>None</td>\n",
       "        <td>None</td>\n",
       "        <td>0.0</td>\n",
       "    </tr>\n",
       "    <tr>\n",
       "        <td>2</td>\n",
       "        <td>allisar01</td>\n",
       "        <td>1871</td>\n",
       "        <td>1</td>\n",
       "        <td>CL1</td>\n",
       "        <td>None</td>\n",
       "        <td>29</td>\n",
       "        <td>137</td>\n",
       "        <td>28</td>\n",
       "        <td>40</td>\n",
       "        <td>4</td>\n",
       "        <td>5</td>\n",
       "        <td>0</td>\n",
       "        <td>19.0</td>\n",
       "        <td>3.0</td>\n",
       "        <td>1.0</td>\n",
       "        <td>2</td>\n",
       "        <td>5.0</td>\n",
       "        <td>None</td>\n",
       "        <td>None</td>\n",
       "        <td>None</td>\n",
       "        <td>None</td>\n",
       "        <td>1.0</td>\n",
       "    </tr>\n",
       "    <tr>\n",
       "        <td>3</td>\n",
       "        <td>allisdo01</td>\n",
       "        <td>1871</td>\n",
       "        <td>1</td>\n",
       "        <td>WS3</td>\n",
       "        <td>None</td>\n",
       "        <td>27</td>\n",
       "        <td>133</td>\n",
       "        <td>28</td>\n",
       "        <td>44</td>\n",
       "        <td>10</td>\n",
       "        <td>2</td>\n",
       "        <td>2</td>\n",
       "        <td>27.0</td>\n",
       "        <td>1.0</td>\n",
       "        <td>1.0</td>\n",
       "        <td>0</td>\n",
       "        <td>2.0</td>\n",
       "        <td>None</td>\n",
       "        <td>None</td>\n",
       "        <td>None</td>\n",
       "        <td>None</td>\n",
       "        <td>0.0</td>\n",
       "    </tr>\n",
       "    <tr>\n",
       "        <td>4</td>\n",
       "        <td>ansonca01</td>\n",
       "        <td>1871</td>\n",
       "        <td>1</td>\n",
       "        <td>RC1</td>\n",
       "        <td>None</td>\n",
       "        <td>25</td>\n",
       "        <td>120</td>\n",
       "        <td>29</td>\n",
       "        <td>39</td>\n",
       "        <td>11</td>\n",
       "        <td>3</td>\n",
       "        <td>0</td>\n",
       "        <td>16.0</td>\n",
       "        <td>6.0</td>\n",
       "        <td>2.0</td>\n",
       "        <td>2</td>\n",
       "        <td>1.0</td>\n",
       "        <td>None</td>\n",
       "        <td>None</td>\n",
       "        <td>None</td>\n",
       "        <td>None</td>\n",
       "        <td>0.0</td>\n",
       "    </tr>\n",
       "</table>"
      ],
      "text/plain": [
       "[(0, 'abercda01', 1871, 1, 'TRO', None, 1, 4, 0, 0, 0, 0, 0, 0.0, 0.0, 0.0, 0, 0.0, None, None, None, None, 0.0),\n",
       " (1, 'addybo01', 1871, 1, 'RC1', None, 25, 118, 30, 32, 6, 0, 0, 13.0, 8.0, 1.0, 4, 0.0, None, None, None, None, 0.0),\n",
       " (2, 'allisar01', 1871, 1, 'CL1', None, 29, 137, 28, 40, 4, 5, 0, 19.0, 3.0, 1.0, 2, 5.0, None, None, None, None, 1.0),\n",
       " (3, 'allisdo01', 1871, 1, 'WS3', None, 27, 133, 28, 44, 10, 2, 2, 27.0, 1.0, 1.0, 0, 2.0, None, None, None, None, 0.0),\n",
       " (4, 'ansonca01', 1871, 1, 'RC1', None, 25, 120, 29, 39, 11, 3, 0, 16.0, 6.0, 2.0, 2, 1.0, None, None, None, None, 0.0)]"
      ]
     },
     "execution_count": 14,
     "metadata": {},
     "output_type": "execute_result"
    }
   ],
   "source": [
    "%sql select * from Batting limit 5;"
   ]
  },
  {
   "cell_type": "code",
   "execution_count": 15,
   "metadata": {},
   "outputs": [
    {
     "name": "stdout",
     "output_type": "stream",
     "text": [
      " * sqlite:///Data/hw1sql.db\n",
      "Done.\n"
     ]
    },
    {
     "data": {
      "text/html": [
       "<table>\n",
       "    <tr>\n",
       "        <th>id</th>\n",
       "        <th>playerID</th>\n",
       "        <th>yearID</th>\n",
       "        <th>votedBy</th>\n",
       "        <th>ballots</th>\n",
       "        <th>needed</th>\n",
       "        <th>votes</th>\n",
       "        <th>inducted</th>\n",
       "        <th>category</th>\n",
       "        <th>needed_note</th>\n",
       "    </tr>\n",
       "    <tr>\n",
       "        <td>0</td>\n",
       "        <td>cobbty01</td>\n",
       "        <td>1936</td>\n",
       "        <td>BBWAA</td>\n",
       "        <td>226.0</td>\n",
       "        <td>170.0</td>\n",
       "        <td>222.0</td>\n",
       "        <td>Y</td>\n",
       "        <td>Player</td>\n",
       "        <td>None</td>\n",
       "    </tr>\n",
       "    <tr>\n",
       "        <td>1</td>\n",
       "        <td>ruthba01</td>\n",
       "        <td>1936</td>\n",
       "        <td>BBWAA</td>\n",
       "        <td>226.0</td>\n",
       "        <td>170.0</td>\n",
       "        <td>215.0</td>\n",
       "        <td>Y</td>\n",
       "        <td>Player</td>\n",
       "        <td>None</td>\n",
       "    </tr>\n",
       "    <tr>\n",
       "        <td>2</td>\n",
       "        <td>wagneho01</td>\n",
       "        <td>1936</td>\n",
       "        <td>BBWAA</td>\n",
       "        <td>226.0</td>\n",
       "        <td>170.0</td>\n",
       "        <td>215.0</td>\n",
       "        <td>Y</td>\n",
       "        <td>Player</td>\n",
       "        <td>None</td>\n",
       "    </tr>\n",
       "    <tr>\n",
       "        <td>3</td>\n",
       "        <td>mathech01</td>\n",
       "        <td>1936</td>\n",
       "        <td>BBWAA</td>\n",
       "        <td>226.0</td>\n",
       "        <td>170.0</td>\n",
       "        <td>205.0</td>\n",
       "        <td>Y</td>\n",
       "        <td>Player</td>\n",
       "        <td>None</td>\n",
       "    </tr>\n",
       "    <tr>\n",
       "        <td>4</td>\n",
       "        <td>johnswa01</td>\n",
       "        <td>1936</td>\n",
       "        <td>BBWAA</td>\n",
       "        <td>226.0</td>\n",
       "        <td>170.0</td>\n",
       "        <td>189.0</td>\n",
       "        <td>Y</td>\n",
       "        <td>Player</td>\n",
       "        <td>None</td>\n",
       "    </tr>\n",
       "</table>"
      ],
      "text/plain": [
       "[(0, 'cobbty01', 1936, 'BBWAA', 226.0, 170.0, 222.0, 'Y', 'Player', None),\n",
       " (1, 'ruthba01', 1936, 'BBWAA', 226.0, 170.0, 215.0, 'Y', 'Player', None),\n",
       " (2, 'wagneho01', 1936, 'BBWAA', 226.0, 170.0, 215.0, 'Y', 'Player', None),\n",
       " (3, 'mathech01', 1936, 'BBWAA', 226.0, 170.0, 205.0, 'Y', 'Player', None),\n",
       " (4, 'johnswa01', 1936, 'BBWAA', 226.0, 170.0, 189.0, 'Y', 'Player', None)]"
      ]
     },
     "execution_count": 15,
     "metadata": {},
     "output_type": "execute_result"
    }
   ],
   "source": [
    "%sql select * from HallOfFame limit 5;"
   ]
  },
  {
   "cell_type": "markdown",
   "metadata": {},
   "source": [
    "## Sample\n",
    "\n",
    "- This is an example of the structure of the remaining questions and answers.\n",
    "\n",
    "__Question__\n",
    "\n",
    "- Find the ```playerID, nameLast, nameFirst, birthCity, birthState, birthCountry``` and ```birthYear``` for entities in ```People``` with ```nameLast``` Williams ```birthCity``` San Diego.\n",
    "\n",
    "<u>Answer:</u>"
   ]
  },
  {
   "cell_type": "code",
   "execution_count": 16,
   "metadata": {},
   "outputs": [
    {
     "name": "stdout",
     "output_type": "stream",
     "text": [
      " * sqlite:///Data/hw1sql.db\n",
      "Done.\n"
     ]
    },
    {
     "data": {
      "text/html": [
       "<table>\n",
       "    <tr>\n",
       "        <th>playerID</th>\n",
       "        <th>nameLast</th>\n",
       "        <th>nameFirst</th>\n",
       "        <th>birthCity</th>\n",
       "        <th>birthState</th>\n",
       "        <th>birthCountry</th>\n",
       "    </tr>\n",
       "    <tr>\n",
       "        <td>willite01</td>\n",
       "        <td>Williams</td>\n",
       "        <td>Ted</td>\n",
       "        <td>San Diego</td>\n",
       "        <td>CA</td>\n",
       "        <td>USA</td>\n",
       "    </tr>\n",
       "    <tr>\n",
       "        <td>willitr01</td>\n",
       "        <td>Williams</td>\n",
       "        <td>Trevor</td>\n",
       "        <td>San Diego</td>\n",
       "        <td>CA</td>\n",
       "        <td>USA</td>\n",
       "    </tr>\n",
       "</table>"
      ],
      "text/plain": [
       "[('willite01', 'Williams', 'Ted', 'San Diego', 'CA', 'USA'),\n",
       " ('willitr01', 'Williams', 'Trevor', 'San Diego', 'CA', 'USA')]"
      ]
     },
     "execution_count": 16,
     "metadata": {},
     "output_type": "execute_result"
    }
   ],
   "source": [
    "%sql select playerID, nameLast, nameFirst, birthCity, \\\n",
    "    birthState, birthCountry from People where nameLast='Williams' and birthCity='San Diego'"
   ]
  },
  {
   "cell_type": "markdown",
   "metadata": {},
   "source": [
    "## Question 3.1\n",
    "\n",
    "- Select the ```nameLast, nameFirst, givenName``` for entities in ```People``` who are between 6 ft and 6 ft 5 inches\n",
    "tall.\n",
    "\n",
    "\n",
    "- You will have to examine the column names and sample values to understand which columns and how to use them for this query.\n",
    "\n",
    "\n",
    "- You only need to return 10 rows.\n",
    "\n",
    "<u>Answer:</u>"
   ]
  },
  {
   "cell_type": "code",
   "execution_count": 17,
   "metadata": {},
   "outputs": [
    {
     "name": "stdout",
     "output_type": "stream",
     "text": [
      " * sqlite:///Data/hw1sql.db\n",
      "Done.\n"
     ]
    },
    {
     "data": {
      "text/html": [
       "<table>\n",
       "    <tr>\n",
       "        <th>nameFirst</th>\n",
       "        <th>nameLast</th>\n",
       "        <th>nameGiven</th>\n",
       "        <th>height</th>\n",
       "    </tr>\n",
       "    <tr>\n",
       "        <td>David</td>\n",
       "        <td>Aardsma</td>\n",
       "        <td>David Allan</td>\n",
       "        <td>75.0</td>\n",
       "    </tr>\n",
       "    <tr>\n",
       "        <td>Tommie</td>\n",
       "        <td>Aaron</td>\n",
       "        <td>Tommie Lee</td>\n",
       "        <td>75.0</td>\n",
       "    </tr>\n",
       "    <tr>\n",
       "        <td>Don</td>\n",
       "        <td>Aase</td>\n",
       "        <td>Donald William</td>\n",
       "        <td>75.0</td>\n",
       "    </tr>\n",
       "    <tr>\n",
       "        <td>Andy</td>\n",
       "        <td>Abad</td>\n",
       "        <td>Fausto Andres</td>\n",
       "        <td>73.0</td>\n",
       "    </tr>\n",
       "    <tr>\n",
       "        <td>Fernando</td>\n",
       "        <td>Abad</td>\n",
       "        <td>Fernando Antonio</td>\n",
       "        <td>73.0</td>\n",
       "    </tr>\n",
       "    <tr>\n",
       "        <td>Jeff</td>\n",
       "        <td>Abbott</td>\n",
       "        <td>Jeffrey William</td>\n",
       "        <td>74.0</td>\n",
       "    </tr>\n",
       "    <tr>\n",
       "        <td>Jim</td>\n",
       "        <td>Abbott</td>\n",
       "        <td>James Anthony</td>\n",
       "        <td>75.0</td>\n",
       "    </tr>\n",
       "    <tr>\n",
       "        <td>Kyle</td>\n",
       "        <td>Abbott</td>\n",
       "        <td>Lawrence Kyle</td>\n",
       "        <td>76.0</td>\n",
       "    </tr>\n",
       "    <tr>\n",
       "        <td>Paul</td>\n",
       "        <td>Abbott</td>\n",
       "        <td>Paul David</td>\n",
       "        <td>75.0</td>\n",
       "    </tr>\n",
       "    <tr>\n",
       "        <td>Al</td>\n",
       "        <td>Aber</td>\n",
       "        <td>Albert Julius</td>\n",
       "        <td>74.0</td>\n",
       "    </tr>\n",
       "</table>"
      ],
      "text/plain": [
       "[('David', 'Aardsma', 'David Allan', 75.0),\n",
       " ('Tommie', 'Aaron', 'Tommie Lee', 75.0),\n",
       " ('Don', 'Aase', 'Donald William', 75.0),\n",
       " ('Andy', 'Abad', 'Fausto Andres', 73.0),\n",
       " ('Fernando', 'Abad', 'Fernando Antonio', 73.0),\n",
       " ('Jeff', 'Abbott', 'Jeffrey William', 74.0),\n",
       " ('Jim', 'Abbott', 'James Anthony', 75.0),\n",
       " ('Kyle', 'Abbott', 'Lawrence Kyle', 76.0),\n",
       " ('Paul', 'Abbott', 'Paul David', 75.0),\n",
       " ('Al', 'Aber', 'Albert Julius', 74.0)]"
      ]
     },
     "execution_count": 17,
     "metadata": {},
     "output_type": "execute_result"
    }
   ],
   "source": [
    "%sql SELECT nameFirst,nameLast,nameGiven,height from People \\\n",
    "where height>72 and height<78 limit 10;\n"
   ]
  },
  {
   "cell_type": "markdown",
   "metadata": {},
   "source": [
    "## Question 3.2\n",
    "\n",
    "- Create a Table of all the distinct players with a first name of Bob who were born in the United States and played at Stanford university\n",
    "\n",
    "\n",
    "- Include their ```first name, last name, playerID```, and ```birth state```\n",
    "\n",
    "\n",
    "- Hint: Use a Join between ```People``` and ```CollegePlaying```\n",
    "\n",
    "\n",
    "- You only need to return 10 rows.\n",
    "\n",
    "<u>Answer:</u>"
   ]
  },
  {
   "cell_type": "code",
   "execution_count": 18,
   "metadata": {},
   "outputs": [
    {
     "name": "stdout",
     "output_type": "stream",
     "text": [
      " * sqlite:///Data/hw1sql.db\n",
      "Done.\n"
     ]
    },
    {
     "data": {
      "text/plain": [
       "[]"
      ]
     },
     "execution_count": 18,
     "metadata": {},
     "output_type": "execute_result"
    }
   ],
   "source": [
    "%sql DROP TABLE IF EXISTS BOB;"
   ]
  },
  {
   "cell_type": "code",
   "execution_count": 19,
   "metadata": {},
   "outputs": [
    {
     "name": "stdout",
     "output_type": "stream",
     "text": [
      " * sqlite:///Data/hw1sql.db\n",
      "Done.\n"
     ]
    },
    {
     "data": {
      "text/plain": [
       "[]"
      ]
     },
     "execution_count": 19,
     "metadata": {},
     "output_type": "execute_result"
    }
   ],
   "source": [
    "%sql CREATE TABLE BOB AS\\\n",
    "SELECT distinct nameFirst,nameLast,p.playerID,birthState FROM People p\\\n",
    "left join CollegePlaying c ON p.playerID=c.playerID\\\n",
    "where nameFirst='Bob' and schoolID='stanford';"
   ]
  },
  {
   "cell_type": "code",
   "execution_count": 20,
   "metadata": {},
   "outputs": [
    {
     "name": "stdout",
     "output_type": "stream",
     "text": [
      " * sqlite:///Data/hw1sql.db\n",
      "Done.\n"
     ]
    },
    {
     "data": {
      "text/html": [
       "<table>\n",
       "    <tr>\n",
       "        <th>nameFirst</th>\n",
       "        <th>nameLast</th>\n",
       "        <th>playerID</th>\n",
       "        <th>birthState</th>\n",
       "    </tr>\n",
       "    <tr>\n",
       "        <td>Bob</td>\n",
       "        <td>Boone</td>\n",
       "        <td>boonebo01</td>\n",
       "        <td>CA</td>\n",
       "    </tr>\n",
       "    <tr>\n",
       "        <td>Bob</td>\n",
       "        <td>Gallagher</td>\n",
       "        <td>gallabo01</td>\n",
       "        <td>MA</td>\n",
       "    </tr>\n",
       "    <tr>\n",
       "        <td>Bob</td>\n",
       "        <td>Kammeyer</td>\n",
       "        <td>kammebo01</td>\n",
       "        <td>KS</td>\n",
       "    </tr>\n",
       "    <tr>\n",
       "        <td>Bob</td>\n",
       "        <td>Reece</td>\n",
       "        <td>reecebo01</td>\n",
       "        <td>CA</td>\n",
       "    </tr>\n",
       "</table>"
      ],
      "text/plain": [
       "[('Bob', 'Boone', 'boonebo01', 'CA'),\n",
       " ('Bob', 'Gallagher', 'gallabo01', 'MA'),\n",
       " ('Bob', 'Kammeyer', 'kammebo01', 'KS'),\n",
       " ('Bob', 'Reece', 'reecebo01', 'CA')]"
      ]
     },
     "execution_count": 20,
     "metadata": {},
     "output_type": "execute_result"
    }
   ],
   "source": [
    "%sql SELECT * FROM BOB limit 10;"
   ]
  },
  {
   "cell_type": "markdown",
   "metadata": {},
   "source": [
    "## Question 3.3\n",
    "\n",
    "- Group together players with the same birth year, and report the year, the number of players in the year, and average height for the year\n",
    "\n",
    "\n",
    "- Order the resulting by year in descending order. Put this in a new table called ```AverageHeight```\n",
    "\n",
    "\n",
    "- Hint: height will be NULL for some of these years, do not consider these entries\n",
    "\n",
    "\n",
    "- Run the SELECT * statement to show that your table was created successfully.\n",
    "\n",
    "<u>Answer:</u>"
   ]
  },
  {
   "cell_type": "code",
   "execution_count": 25,
   "metadata": {},
   "outputs": [
    {
     "name": "stdout",
     "output_type": "stream",
     "text": [
      " * sqlite:///Data/hw1sql.db\n",
      "Done.\n"
     ]
    },
    {
     "data": {
      "text/plain": [
       "[]"
      ]
     },
     "execution_count": 25,
     "metadata": {},
     "output_type": "execute_result"
    }
   ],
   "source": [
    "%sql DROP TABLE IF EXISTS AverageHeight;"
   ]
  },
  {
   "cell_type": "code",
   "execution_count": 27,
   "metadata": {},
   "outputs": [
    {
     "name": "stdout",
     "output_type": "stream",
     "text": [
      " * sqlite:///Data/hw1sql.db\n",
      "Done.\n"
     ]
    },
    {
     "data": {
      "text/plain": [
       "[]"
      ]
     },
     "execution_count": 27,
     "metadata": {},
     "output_type": "execute_result"
    }
   ],
   "source": [
    "%sql CREATE TABLE AverageHeight AS\\\n",
    "SELECT birthYear, count(*),avg(height)\\\n",
    "from People\\\n",
    "where height is not null\\\n",
    "group by birthYear\\\n",
    "order by birthYear desc;"
   ]
  },
  {
   "cell_type": "code",
   "execution_count": 28,
   "metadata": {},
   "outputs": [
    {
     "name": "stdout",
     "output_type": "stream",
     "text": [
      " * sqlite:///Data/hw1sql.db\n",
      "Done.\n"
     ]
    },
    {
     "data": {
      "text/html": [
       "<table>\n",
       "    <tr>\n",
       "        <th>birthYear</th>\n",
       "        <th>count(*)</th>\n",
       "        <th>avg(height)</th>\n",
       "    </tr>\n",
       "    <tr>\n",
       "        <td>1998.0</td>\n",
       "        <td>1</td>\n",
       "        <td>73.0</td>\n",
       "    </tr>\n",
       "    <tr>\n",
       "        <td>1997.0</td>\n",
       "        <td>10</td>\n",
       "        <td>72.8</td>\n",
       "    </tr>\n",
       "    <tr>\n",
       "        <td>1996.0</td>\n",
       "        <td>23</td>\n",
       "        <td>73.08695652173913</td>\n",
       "    </tr>\n",
       "    <tr>\n",
       "        <td>1995.0</td>\n",
       "        <td>56</td>\n",
       "        <td>73.60714285714286</td>\n",
       "    </tr>\n",
       "    <tr>\n",
       "        <td>1994.0</td>\n",
       "        <td>108</td>\n",
       "        <td>73.55555555555556</td>\n",
       "    </tr>\n",
       "    <tr>\n",
       "        <td>1993.0</td>\n",
       "        <td>171</td>\n",
       "        <td>73.98245614035088</td>\n",
       "    </tr>\n",
       "    <tr>\n",
       "        <td>1992.0</td>\n",
       "        <td>199</td>\n",
       "        <td>73.83417085427136</td>\n",
       "    </tr>\n",
       "    <tr>\n",
       "        <td>1991.0</td>\n",
       "        <td>215</td>\n",
       "        <td>73.78139534883721</td>\n",
       "    </tr>\n",
       "    <tr>\n",
       "        <td>1990.0</td>\n",
       "        <td>240</td>\n",
       "        <td>73.79583333333333</td>\n",
       "    </tr>\n",
       "    <tr>\n",
       "        <td>1989.0</td>\n",
       "        <td>232</td>\n",
       "        <td>73.64655172413794</td>\n",
       "    </tr>\n",
       "</table>"
      ],
      "text/plain": [
       "[(1998.0, 1, 73.0),\n",
       " (1997.0, 10, 72.8),\n",
       " (1996.0, 23, 73.08695652173913),\n",
       " (1995.0, 56, 73.60714285714286),\n",
       " (1994.0, 108, 73.55555555555556),\n",
       " (1993.0, 171, 73.98245614035088),\n",
       " (1992.0, 199, 73.83417085427136),\n",
       " (1991.0, 215, 73.78139534883721),\n",
       " (1990.0, 240, 73.79583333333333),\n",
       " (1989.0, 232, 73.64655172413794)]"
      ]
     },
     "execution_count": 28,
     "metadata": {},
     "output_type": "execute_result"
    }
   ],
   "source": [
    "%sql SELECT * FROM AverageHeight LIMIT 10;"
   ]
  },
  {
   "cell_type": "markdown",
   "metadata": {},
   "source": [
    "## Question 3.4\n",
    "\n",
    "- Find the players who made it into the hall of fame who played for a college located in NJ\n",
    "\n",
    "\n",
    "- Return the ```player ID, first name, last name```, and ```school ID```. \n",
    "\n",
    "\n",
    "- Order the players by ```School``` alphabetically.\n",
    "\n",
    "\n",
    "- You only need to return 10 rows.\n",
    "\n",
    "<u>Answer:</u>"
   ]
  },
  {
   "cell_type": "code",
   "execution_count": 24,
   "metadata": {},
   "outputs": [
    {
     "name": "stdout",
     "output_type": "stream",
     "text": [
      " * sqlite:///Data/hw1sql.db\n",
      "Done.\n"
     ]
    },
    {
     "data": {
      "text/html": [
       "<table>\n",
       "    <tr>\n",
       "        <th>playerID</th>\n",
       "        <th>nameFirst</th>\n",
       "        <th>nameLast</th>\n",
       "        <th>schoolID</th>\n",
       "    </tr>\n",
       "    <tr>\n",
       "        <td>biggicr01</td>\n",
       "        <td>Craig</td>\n",
       "        <td>Biggio</td>\n",
       "        <td>setonhall</td>\n",
       "    </tr>\n",
       "</table>"
      ],
      "text/plain": [
       "[('biggicr01', 'Craig', 'Biggio', 'setonhall')]"
      ]
     },
     "execution_count": 24,
     "metadata": {},
     "output_type": "execute_result"
    }
   ],
   "source": [
    "%sql SELECT distinct p.playerID,p.nameFirst,p.nameLast,s.schoolID\\\n",
    "from (People p join HallOfFame h using(playerID) join CollegePlaying using(playerID) join Schools s using(schoolID))\\\n",
    "where s.state='NJ' and h.inducted='Y'\\\n",
    "limit 10;\n"
   ]
  },
  {
   "cell_type": "markdown",
   "metadata": {},
   "source": [
    "## Question 3.5\n",
    "\n",
    "- Find the ```team id, yearid```, and ```average HBP``` for each team using a subquery.\n",
    "\n",
    "\n",
    "- Group the entries by ```team``` and ```year``` and order by descending values\n",
    "\n",
    "\n",
    "- Hint: be careful to only include entries where ```AB``` is > 0\n",
    "\n",
    "\n",
    "- You need to return 50 rows.\n",
    "\n",
    "<u>Answer:</u>"
   ]
  },
  {
   "cell_type": "code",
   "execution_count": 31,
   "metadata": {},
   "outputs": [
    {
     "name": "stdout",
     "output_type": "stream",
     "text": [
      " * sqlite:///Data/hw1sql.db\n",
      "Done.\n"
     ]
    },
    {
     "data": {
      "text/html": [
       "<table>\n",
       "    <tr>\n",
       "        <th>teamID</th>\n",
       "        <th>yearID</th>\n",
       "        <th>avg_HBP</th>\n",
       "    </tr>\n",
       "    <tr>\n",
       "        <td>BLN</td>\n",
       "        <td>1898</td>\n",
       "        <td>6.666666666666667</td>\n",
       "    </tr>\n",
       "    <tr>\n",
       "        <td>BL3</td>\n",
       "        <td>1891</td>\n",
       "        <td>6.166666666666667</td>\n",
       "    </tr>\n",
       "    <tr>\n",
       "        <td>BLN</td>\n",
       "        <td>1897</td>\n",
       "        <td>5.75</td>\n",
       "    </tr>\n",
       "    <tr>\n",
       "        <td>BLN</td>\n",
       "        <td>1896</td>\n",
       "        <td>5.454545454545454</td>\n",
       "    </tr>\n",
       "    <tr>\n",
       "        <td>BLN</td>\n",
       "        <td>1895</td>\n",
       "        <td>5.3</td>\n",
       "    </tr>\n",
       "    <tr>\n",
       "        <td>BLN</td>\n",
       "        <td>1899</td>\n",
       "        <td>5.083333333333333</td>\n",
       "    </tr>\n",
       "    <tr>\n",
       "        <td>BLN</td>\n",
       "        <td>1894</td>\n",
       "        <td>4.9</td>\n",
       "    </tr>\n",
       "    <tr>\n",
       "        <td>NY1</td>\n",
       "        <td>1905</td>\n",
       "        <td>4.7368421052631575</td>\n",
       "    </tr>\n",
       "    <tr>\n",
       "        <td>NY1</td>\n",
       "        <td>1903</td>\n",
       "        <td>4.6</td>\n",
       "    </tr>\n",
       "    <tr>\n",
       "        <td>TOR</td>\n",
       "        <td>1996</td>\n",
       "        <td>4.6</td>\n",
       "    </tr>\n",
       "    <tr>\n",
       "        <td>BRO</td>\n",
       "        <td>1899</td>\n",
       "        <td>4.464285714285714</td>\n",
       "    </tr>\n",
       "    <tr>\n",
       "        <td>BSN</td>\n",
       "        <td>1891</td>\n",
       "        <td>4.1</td>\n",
       "    </tr>\n",
       "    <tr>\n",
       "        <td>BL2</td>\n",
       "        <td>1887</td>\n",
       "        <td>4.0</td>\n",
       "    </tr>\n",
       "    <tr>\n",
       "        <td>CN2</td>\n",
       "        <td>1889</td>\n",
       "        <td>4.0</td>\n",
       "    </tr>\n",
       "    <tr>\n",
       "        <td>PHI</td>\n",
       "        <td>1893</td>\n",
       "        <td>3.9444444444444446</td>\n",
       "    </tr>\n",
       "    <tr>\n",
       "        <td>SL4</td>\n",
       "        <td>1887</td>\n",
       "        <td>3.9411764705882355</td>\n",
       "    </tr>\n",
       "    <tr>\n",
       "        <td>CL5</td>\n",
       "        <td>1884</td>\n",
       "        <td>3.933333333333333</td>\n",
       "    </tr>\n",
       "    <tr>\n",
       "        <td>TOR</td>\n",
       "        <td>2005</td>\n",
       "        <td>3.869565217391304</td>\n",
       "    </tr>\n",
       "    <tr>\n",
       "        <td>CLE</td>\n",
       "        <td>2008</td>\n",
       "        <td>3.814814814814815</td>\n",
       "    </tr>\n",
       "    <tr>\n",
       "        <td>SLN</td>\n",
       "        <td>1901</td>\n",
       "        <td>3.75</td>\n",
       "    </tr>\n",
       "    <tr>\n",
       "        <td>BFP</td>\n",
       "        <td>1890</td>\n",
       "        <td>3.6923076923076925</td>\n",
       "    </tr>\n",
       "    <tr>\n",
       "        <td>BSN</td>\n",
       "        <td>1890</td>\n",
       "        <td>3.6315789473684212</td>\n",
       "    </tr>\n",
       "    <tr>\n",
       "        <td>TOR</td>\n",
       "        <td>2003</td>\n",
       "        <td>3.6</td>\n",
       "    </tr>\n",
       "    <tr>\n",
       "        <td>BL2</td>\n",
       "        <td>1889</td>\n",
       "        <td>3.5652173913043477</td>\n",
       "    </tr>\n",
       "    <tr>\n",
       "        <td>TL2</td>\n",
       "        <td>1890</td>\n",
       "        <td>3.55</td>\n",
       "    </tr>\n",
       "    <tr>\n",
       "        <td>CN2</td>\n",
       "        <td>1888</td>\n",
       "        <td>3.5294117647058822</td>\n",
       "    </tr>\n",
       "    <tr>\n",
       "        <td>CAL</td>\n",
       "        <td>1978</td>\n",
       "        <td>3.526315789473684</td>\n",
       "    </tr>\n",
       "    <tr>\n",
       "        <td>BRO</td>\n",
       "        <td>1900</td>\n",
       "        <td>3.5217391304347827</td>\n",
       "    </tr>\n",
       "    <tr>\n",
       "        <td>PH4</td>\n",
       "        <td>1888</td>\n",
       "        <td>3.5</td>\n",
       "    </tr>\n",
       "    <tr>\n",
       "        <td>WAS</td>\n",
       "        <td>1893</td>\n",
       "        <td>3.5</td>\n",
       "    </tr>\n",
       "    <tr>\n",
       "        <td>BSN</td>\n",
       "        <td>1903</td>\n",
       "        <td>3.4705882352941178</td>\n",
       "    </tr>\n",
       "    <tr>\n",
       "        <td>BSN</td>\n",
       "        <td>1892</td>\n",
       "        <td>3.4444444444444446</td>\n",
       "    </tr>\n",
       "    <tr>\n",
       "        <td>CL3</td>\n",
       "        <td>1888</td>\n",
       "        <td>3.4347826086956523</td>\n",
       "    </tr>\n",
       "    <tr>\n",
       "        <td>NY1</td>\n",
       "        <td>1904</td>\n",
       "        <td>3.4347826086956523</td>\n",
       "    </tr>\n",
       "    <tr>\n",
       "        <td>CIN</td>\n",
       "        <td>1897</td>\n",
       "        <td>3.4210526315789473</td>\n",
       "    </tr>\n",
       "    <tr>\n",
       "        <td>BL2</td>\n",
       "        <td>1884</td>\n",
       "        <td>3.3684210526315788</td>\n",
       "    </tr>\n",
       "    <tr>\n",
       "        <td>PTP</td>\n",
       "        <td>1890</td>\n",
       "        <td>3.3529411764705883</td>\n",
       "    </tr>\n",
       "    <tr>\n",
       "        <td>PIT</td>\n",
       "        <td>1897</td>\n",
       "        <td>3.35</td>\n",
       "    </tr>\n",
       "    <tr>\n",
       "        <td>BR3</td>\n",
       "        <td>1889</td>\n",
       "        <td>3.2666666666666666</td>\n",
       "    </tr>\n",
       "    <tr>\n",
       "        <td>SL4</td>\n",
       "        <td>1885</td>\n",
       "        <td>3.2666666666666666</td>\n",
       "    </tr>\n",
       "    <tr>\n",
       "        <td>PHI</td>\n",
       "        <td>1899</td>\n",
       "        <td>3.260869565217391</td>\n",
       "    </tr>\n",
       "    <tr>\n",
       "        <td>MIN</td>\n",
       "        <td>1996</td>\n",
       "        <td>3.25</td>\n",
       "    </tr>\n",
       "    <tr>\n",
       "        <td>OAK</td>\n",
       "        <td>1988</td>\n",
       "        <td>3.25</td>\n",
       "    </tr>\n",
       "    <tr>\n",
       "        <td>SL4</td>\n",
       "        <td>1886</td>\n",
       "        <td>3.25</td>\n",
       "    </tr>\n",
       "    <tr>\n",
       "        <td>SLN</td>\n",
       "        <td>1900</td>\n",
       "        <td>3.24</td>\n",
       "    </tr>\n",
       "    <tr>\n",
       "        <td>CHA</td>\n",
       "        <td>2011</td>\n",
       "        <td>3.230769230769231</td>\n",
       "    </tr>\n",
       "    <tr>\n",
       "        <td>PH4</td>\n",
       "        <td>1891</td>\n",
       "        <td>3.217391304347826</td>\n",
       "    </tr>\n",
       "    <tr>\n",
       "        <td>ANA</td>\n",
       "        <td>2001</td>\n",
       "        <td>3.2083333333333335</td>\n",
       "    </tr>\n",
       "    <tr>\n",
       "        <td>PHP</td>\n",
       "        <td>1890</td>\n",
       "        <td>3.1875</td>\n",
       "    </tr>\n",
       "    <tr>\n",
       "        <td>BRO</td>\n",
       "        <td>1892</td>\n",
       "        <td>3.176470588235294</td>\n",
       "    </tr>\n",
       "</table>"
      ],
      "text/plain": [
       "[('BLN', 1898, 6.666666666666667),\n",
       " ('BL3', 1891, 6.166666666666667),\n",
       " ('BLN', 1897, 5.75),\n",
       " ('BLN', 1896, 5.454545454545454),\n",
       " ('BLN', 1895, 5.3),\n",
       " ('BLN', 1899, 5.083333333333333),\n",
       " ('BLN', 1894, 4.9),\n",
       " ('NY1', 1905, 4.7368421052631575),\n",
       " ('NY1', 1903, 4.6),\n",
       " ('TOR', 1996, 4.6),\n",
       " ('BRO', 1899, 4.464285714285714),\n",
       " ('BSN', 1891, 4.1),\n",
       " ('BL2', 1887, 4.0),\n",
       " ('CN2', 1889, 4.0),\n",
       " ('PHI', 1893, 3.9444444444444446),\n",
       " ('SL4', 1887, 3.9411764705882355),\n",
       " ('CL5', 1884, 3.933333333333333),\n",
       " ('TOR', 2005, 3.869565217391304),\n",
       " ('CLE', 2008, 3.814814814814815),\n",
       " ('SLN', 1901, 3.75),\n",
       " ('BFP', 1890, 3.6923076923076925),\n",
       " ('BSN', 1890, 3.6315789473684212),\n",
       " ('TOR', 2003, 3.6),\n",
       " ('BL2', 1889, 3.5652173913043477),\n",
       " ('TL2', 1890, 3.55),\n",
       " ('CN2', 1888, 3.5294117647058822),\n",
       " ('CAL', 1978, 3.526315789473684),\n",
       " ('BRO', 1900, 3.5217391304347827),\n",
       " ('PH4', 1888, 3.5),\n",
       " ('WAS', 1893, 3.5),\n",
       " ('BSN', 1903, 3.4705882352941178),\n",
       " ('BSN', 1892, 3.4444444444444446),\n",
       " ('CL3', 1888, 3.4347826086956523),\n",
       " ('NY1', 1904, 3.4347826086956523),\n",
       " ('CIN', 1897, 3.4210526315789473),\n",
       " ('BL2', 1884, 3.3684210526315788),\n",
       " ('PTP', 1890, 3.3529411764705883),\n",
       " ('PIT', 1897, 3.35),\n",
       " ('BR3', 1889, 3.2666666666666666),\n",
       " ('SL4', 1885, 3.2666666666666666),\n",
       " ('PHI', 1899, 3.260869565217391),\n",
       " ('MIN', 1996, 3.25),\n",
       " ('OAK', 1988, 3.25),\n",
       " ('SL4', 1886, 3.25),\n",
       " ('SLN', 1900, 3.24),\n",
       " ('CHA', 2011, 3.230769230769231),\n",
       " ('PH4', 1891, 3.217391304347826),\n",
       " ('ANA', 2001, 3.2083333333333335),\n",
       " ('PHP', 1890, 3.1875),\n",
       " ('BRO', 1892, 3.176470588235294)]"
      ]
     },
     "execution_count": 31,
     "metadata": {},
     "output_type": "execute_result"
    }
   ],
   "source": [
    "%sql SELECT teamID, yearID,avg(HBP) as avg_HBP\\\n",
    "from (SELECT teamID,yearID,HBP\\\n",
    "     from Batting\\\n",
    "     where AB>0)\\\n",
    "     group by teamID,yearID\\\n",
    "     order by avg_HBP desc\\\n",
    "     limit 50;"
   ]
  },
  {
   "cell_type": "markdown",
   "metadata": {},
   "source": [
    "## OPTIONAL UNGRADED QUESTION  \n",
    "\n",
    "- Find the top 10 most common first names in Baseball history.\n",
    "\n",
    "\n",
    "- Find the top 10 most common first names that made it into the hall of fame in baseball history.\n",
    "\n",
    "\n",
    "- What have you learned?\n",
    "\n",
    "<u>Answer:</u>"
   ]
  },
  {
   "cell_type": "code",
   "execution_count": 32,
   "metadata": {},
   "outputs": [
    {
     "name": "stdout",
     "output_type": "stream",
     "text": [
      " * sqlite:///Data/hw1sql.db\n",
      "Done.\n"
     ]
    },
    {
     "data": {
      "text/html": [
       "<table>\n",
       "    <tr>\n",
       "        <th>nameFirst</th>\n",
       "        <th>count</th>\n",
       "    </tr>\n",
       "    <tr>\n",
       "        <td>Bill</td>\n",
       "        <td>547</td>\n",
       "    </tr>\n",
       "    <tr>\n",
       "        <td>John</td>\n",
       "        <td>492</td>\n",
       "    </tr>\n",
       "    <tr>\n",
       "        <td>Mike</td>\n",
       "        <td>444</td>\n",
       "    </tr>\n",
       "    <tr>\n",
       "        <td>Jim</td>\n",
       "        <td>441</td>\n",
       "    </tr>\n",
       "    <tr>\n",
       "        <td>Joe</td>\n",
       "        <td>402</td>\n",
       "    </tr>\n",
       "    <tr>\n",
       "        <td>Bob</td>\n",
       "        <td>341</td>\n",
       "    </tr>\n",
       "    <tr>\n",
       "        <td>George</td>\n",
       "        <td>305</td>\n",
       "    </tr>\n",
       "    <tr>\n",
       "        <td>Tom</td>\n",
       "        <td>280</td>\n",
       "    </tr>\n",
       "    <tr>\n",
       "        <td>Ed</td>\n",
       "        <td>279</td>\n",
       "    </tr>\n",
       "    <tr>\n",
       "        <td>Frank</td>\n",
       "        <td>275</td>\n",
       "    </tr>\n",
       "</table>"
      ],
      "text/plain": [
       "[('Bill', 547),\n",
       " ('John', 492),\n",
       " ('Mike', 444),\n",
       " ('Jim', 441),\n",
       " ('Joe', 402),\n",
       " ('Bob', 341),\n",
       " ('George', 305),\n",
       " ('Tom', 280),\n",
       " ('Ed', 279),\n",
       " ('Frank', 275)]"
      ]
     },
     "execution_count": 32,
     "metadata": {},
     "output_type": "execute_result"
    }
   ],
   "source": [
    "%sql select nameFirst,count(*) as count\\\n",
    "from People\\\n",
    "group by nameFirst\\\n",
    "order by count desc\\\n",
    "limit 10"
   ]
  },
  {
   "cell_type": "code",
   "execution_count": 33,
   "metadata": {},
   "outputs": [
    {
     "name": "stdout",
     "output_type": "stream",
     "text": [
      " * sqlite:///Data/hw1sql.db\n",
      "Done.\n"
     ]
    },
    {
     "data": {
      "text/html": [
       "<table>\n",
       "    <tr>\n",
       "        <th>nameFirst</th>\n",
       "        <th>count</th>\n",
       "    </tr>\n",
       "    <tr>\n",
       "        <td>Edd</td>\n",
       "        <td>20</td>\n",
       "    </tr>\n",
       "    <tr>\n",
       "        <td>Ross</td>\n",
       "        <td>19</td>\n",
       "    </tr>\n",
       "    <tr>\n",
       "        <td>Ray</td>\n",
       "        <td>18</td>\n",
       "    </tr>\n",
       "    <tr>\n",
       "        <td>Red</td>\n",
       "        <td>18</td>\n",
       "    </tr>\n",
       "    <tr>\n",
       "        <td>Hack</td>\n",
       "        <td>17</td>\n",
       "    </tr>\n",
       "    <tr>\n",
       "        <td>Zack</td>\n",
       "        <td>17</td>\n",
       "    </tr>\n",
       "    <tr>\n",
       "        <td>Dazzy</td>\n",
       "        <td>17</td>\n",
       "    </tr>\n",
       "    <tr>\n",
       "        <td>Phil</td>\n",
       "        <td>17</td>\n",
       "    </tr>\n",
       "    <tr>\n",
       "        <td>Eppa</td>\n",
       "        <td>17</td>\n",
       "    </tr>\n",
       "    <tr>\n",
       "        <td>Pee Wee</td>\n",
       "        <td>17</td>\n",
       "    </tr>\n",
       "</table>"
      ],
      "text/plain": [
       "[('Edd', 20),\n",
       " ('Ross', 19),\n",
       " ('Ray', 18),\n",
       " ('Red', 18),\n",
       " ('Hack', 17),\n",
       " ('Zack', 17),\n",
       " ('Dazzy', 17),\n",
       " ('Phil', 17),\n",
       " ('Eppa', 17),\n",
       " ('Pee Wee', 17)]"
      ]
     },
     "execution_count": 33,
     "metadata": {},
     "output_type": "execute_result"
    }
   ],
   "source": [
    "%sql select nameFirst,count(*) as count\\\n",
    "from (HallOfFame join People p using(playerID))\\\n",
    "group by playerID\\\n",
    "order by count desc\\\n",
    "limit 10"
   ]
  },
  {
   "cell_type": "markdown",
   "metadata": {},
   "source": []
  },
  {
   "cell_type": "markdown",
   "metadata": {},
   "source": [
    "$$ \\alpha^2 $$"
   ]
  },
  {
   "cell_type": "code",
   "execution_count": null,
   "metadata": {},
   "outputs": [],
   "source": []
  }
 ],
 "metadata": {
  "kernelspec": {
   "display_name": "Python 3",
   "language": "python",
   "name": "python3"
  },
  "language_info": {
   "codemirror_mode": {
    "name": "ipython",
    "version": 3
   },
   "file_extension": ".py",
   "mimetype": "text/x-python",
   "name": "python",
   "nbconvert_exporter": "python",
   "pygments_lexer": "ipython3",
   "version": "3.7.4"
  },
  "toc": {
   "nav_menu": {},
   "number_sections": true,
   "sideBar": true,
   "skip_h1_title": false,
   "title_cell": "Table of Contents",
   "title_sidebar": "Contents",
   "toc_cell": false,
   "toc_position": {},
   "toc_section_display": true,
   "toc_window_display": false
  }
 },
 "nbformat": 4,
 "nbformat_minor": 2
}
